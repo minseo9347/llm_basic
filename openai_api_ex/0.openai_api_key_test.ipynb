{
 "cells": [
  {
   "cell_type": "markdown",
   "id": "c8999acb",
   "metadata": {},
   "source": [
    "## OPENAI API 키 테스트"
   ]
  },
  {
   "cell_type": "code",
   "execution_count": 1,
   "id": "4d9a3756",
   "metadata": {},
   "outputs": [],
   "source": [
    "# api 발급 받아서 .env에 저장\n",
    "# Key 로딩해서 출력하기\n",
    "import os\n",
    "from dotenv import load_dotenv\n",
    "\n",
    "# .env 파일에서 OPENAIAPI 환경 변수 로드\n",
    "\n",
    "load_dotenv(override=True)\n",
    "api = os.getenv(\"OPENAIAPI\")\n",
    "#print(api)"
   ]
  },
  {
   "cell_type": "code",
   "execution_count": null,
   "id": "e94d51b5",
   "metadata": {},
   "outputs": [],
   "source": []
  }
 ],
 "metadata": {
  "kernelspec": {
   "display_name": "llm_env",
   "language": "python",
   "name": "python3"
  },
  "language_info": {
   "codemirror_mode": {
    "name": "ipython",
    "version": 3
   },
   "file_extension": ".py",
   "mimetype": "text/x-python",
   "name": "python",
   "nbconvert_exporter": "python",
   "pygments_lexer": "ipython3",
   "version": "3.12.10"
  }
 },
 "nbformat": 4,
 "nbformat_minor": 5
}
